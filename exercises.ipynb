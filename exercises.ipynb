{
  "cells": [
    {
      "cell_type": "markdown",
      "id": "7ef8962f",
      "metadata": {},
      "source": [
        "<font color='darkred'> Unless otherwise noted, **this notebook will not be reviewed or autograded.**</font> You are welcome to use it for scratchwork, but **only the files listed in the exercises will be checked.**\n",
        "\n",
        "---"
      ]
    },
    {
      "cell_type": "markdown",
      "id": "fd72ad2d",
      "metadata": {},
      "source": [
        "# Background\n",
        "\n",
        "Before we move into the exercises, we'll cover some background information to get you started."
      ]
    },
    {
      "cell_type": "code",
      "execution_count": 67,
      "id": "b2229a9e",
      "metadata": {},
      "outputs": [],
      "source": [
        "import numpy as np\n",
        "import pandas as pd\n",
        "import requests\n",
        "import re"
      ]
    },
    {
      "cell_type": "markdown",
      "id": "ad8d8983-a06e-4589-b8c8-d4ac8cac7919",
      "metadata": {
        "id": "ad8d8983-a06e-4589-b8c8-d4ac8cac7919"
      },
      "source": [
        "## Markov Chain Simple Example"
      ]
    },
    {
      "cell_type": "markdown",
      "id": "f605a922-f2b5-455f-ba19-e695a16ad1ea",
      "metadata": {
        "id": "f605a922-f2b5-455f-ba19-e695a16ad1ea"
      },
      "source": [
        "Markov chains are a way of representing how systems change over time. The main concept behind Markov chains are that they are memoryless, meaning that the next state of a process only depends on the previous state."
      ]
    },
    {
      "cell_type": "markdown",
      "id": "43a97067-1056-4622-8e08-03484625df99",
      "metadata": {
        "id": "43a97067-1056-4622-8e08-03484625df99"
      },
      "source": [
        "![image](https://upload.wikimedia.org/wikipedia/commons/7/7a/Markov_Chain_weather_model_matrix_as_a_graph.png)\n",
        "\n",
        "The way to read the Markov chain above from [Wikipedia](https://commons.wikimedia.org/w/index.php?curid=25300524) is:\n",
        "* If I am currently in the sunny state, there is a 10% chance I will go to the rainy state and a 90% chance I will remain in the sunny state\n",
        "* If I am currently in the rainy state, there is an 50% chance I will go to the sunny state and a 50% chance I will remain in the rainy state"
      ]
    },
    {
      "cell_type": "markdown",
      "id": "1c054964-eacf-4fc8-a9fc-f025dfd1f4fc",
      "metadata": {
        "id": "1c054964-eacf-4fc8-a9fc-f025dfd1f4fc"
      },
      "source": [
        "## Transition Matrices"
      ]
    },
    {
      "cell_type": "markdown",
      "id": "87016bb8-9079-4d08-8580-fd1e4d9f7e5e",
      "metadata": {
        "id": "87016bb8-9079-4d08-8580-fd1e4d9f7e5e"
      },
      "source": [
        "This is what our **transition matrix** will look like for the Markov chain diagram above. Take a minute to interpret the rows and columns of this matrix."
      ]
    },
    {
      "cell_type": "code",
      "execution_count": 3,
      "id": "71a600a6-85d4-488a-bcaf-6c3a5ce3079a",
      "metadata": {
        "id": "71a600a6-85d4-488a-bcaf-6c3a5ce3079a",
        "outputId": "fd498834-71a1-4835-f02a-0a8ee68d00eb",
        "tags": []
      },
      "outputs": [
        {
          "data": {
            "text/html": [
              "<div>\n",
              "<style scoped>\n",
              "    .dataframe tbody tr th:only-of-type {\n",
              "        vertical-align: middle;\n",
              "    }\n",
              "\n",
              "    .dataframe tbody tr th {\n",
              "        vertical-align: top;\n",
              "    }\n",
              "\n",
              "    .dataframe thead th {\n",
              "        text-align: right;\n",
              "    }\n",
              "</style>\n",
              "<table border=\"1\" class=\"dataframe\">\n",
              "  <thead>\n",
              "    <tr style=\"text-align: right;\">\n",
              "      <th></th>\n",
              "      <th>sunny</th>\n",
              "      <th>rainy</th>\n",
              "    </tr>\n",
              "  </thead>\n",
              "  <tbody>\n",
              "    <tr>\n",
              "      <th>sunny</th>\n",
              "      <td>0.9</td>\n",
              "      <td>0.1</td>\n",
              "    </tr>\n",
              "    <tr>\n",
              "      <th>rainy</th>\n",
              "      <td>0.5</td>\n",
              "      <td>0.5</td>\n",
              "    </tr>\n",
              "  </tbody>\n",
              "</table>\n",
              "</div>"
            ],
            "text/plain": [
              "       sunny  rainy\n",
              "sunny    0.9    0.1\n",
              "rainy    0.5    0.5"
            ]
          },
          "execution_count": 3,
          "metadata": {},
          "output_type": "execute_result"
        }
      ],
      "source": [
        "P = np.asarray([.9, .1, .5, .5]).reshape(2,2)\n",
        "states = ['sunny', 'rainy']\n",
        "\n",
        "pd.DataFrame(P, index=states, columns=states)"
      ]
    },
    {
      "cell_type": "markdown",
      "id": "5c6f5cef-fb28-4d0e-b95d-c7c36aa3eb8b",
      "metadata": {
        "id": "5c6f5cef-fb28-4d0e-b95d-c7c36aa3eb8b"
      },
      "source": [
        "## Predict Tomorrow's Weather"
      ]
    },
    {
      "cell_type": "markdown",
      "id": "1fda2172-64b6-443f-afe4-d9848662d942",
      "metadata": {
        "id": "1fda2172-64b6-443f-afe4-d9848662d942"
      },
      "source": [
        "Let's say it's sunny today, we can represent that as:\n",
        "\n",
        "`today = [1, 0]`\n",
        "\n",
        "**Predict tomorrow's weather using what you know about today and the transition matrix.**"
      ]
    },
    {
      "cell_type": "code",
      "execution_count": 4,
      "id": "512bdce6-4a18-445f-b261-cde15113e3fa",
      "metadata": {
        "id": "512bdce6-4a18-445f-b261-cde15113e3fa",
        "outputId": "c3bcde01-b776-4212-ff9a-1def9171cb9e",
        "tags": []
      },
      "outputs": [
        {
          "data": {
            "text/plain": [
              "array([0.9, 0.1])"
            ]
          },
          "execution_count": 4,
          "metadata": {},
          "output_type": "execute_result"
        }
      ],
      "source": [
        "today = [1, 0]\n",
        "\n",
        "tomorrow = np.dot(today, P)\n",
        "tomorrow"
      ]
    },
    {
      "cell_type": "markdown",
      "id": "a3a8e34c-9387-4859-8728-5cc55229fffb",
      "metadata": {
        "id": "a3a8e34c-9387-4859-8728-5cc55229fffb"
      },
      "source": [
        "In this example, there is a 90% chance it will remain sunny tomorrow, and a 10% chance it'll be rainy."
      ]
    },
    {
      "cell_type": "markdown",
      "id": "4909b3a0-5457-4fd3-b384-8854c3e2067d",
      "metadata": {
        "id": "4909b3a0-5457-4fd3-b384-8854c3e2067d"
      },
      "source": [
        "**Predict the day after tomorrow's weather.**"
      ]
    },
    {
      "cell_type": "code",
      "execution_count": 5,
      "id": "5b89f0dd-dd88-4e12-a346-2b636e440ecf",
      "metadata": {
        "id": "5b89f0dd-dd88-4e12-a346-2b636e440ecf",
        "outputId": "f7b6c51d-0958-4157-adba-e47c618f5243",
        "tags": []
      },
      "outputs": [
        {
          "data": {
            "text/plain": [
              "array([0.86, 0.14])"
            ]
          },
          "execution_count": 5,
          "metadata": {},
          "output_type": "execute_result"
        }
      ],
      "source": [
        "# Method 1: Multiply tomorrow's weather by the transition matrix\n",
        "day_after = np.dot(tomorrow, P)\n",
        "day_after"
      ]
    },
    {
      "cell_type": "code",
      "execution_count": 6,
      "id": "41380f5b-1e86-41dd-bbc0-e7ddfaab06d2",
      "metadata": {
        "id": "41380f5b-1e86-41dd-bbc0-e7ddfaab06d2",
        "outputId": "c137720a-4503-446b-fa55-8e39d27c7455",
        "tags": []
      },
      "outputs": [
        {
          "data": {
            "text/plain": [
              "array([0.86, 0.14])"
            ]
          },
          "execution_count": 6,
          "metadata": {},
          "output_type": "execute_result"
        }
      ],
      "source": [
        "# Method 2: Multiply today's weather by the transition matrix^2\n",
        "day_after = np.dot(today, np.linalg.matrix_power(P, 2))\n",
        "day_after"
      ]
    },
    {
      "cell_type": "markdown",
      "id": "b1d3f76b-f595-4c13-9a89-0cbd48349c36",
      "metadata": {
        "id": "b1d3f76b-f595-4c13-9a89-0cbd48349c36"
      },
      "source": [
        "## Text Generation\n",
        "\n",
        "Markov chains can also be used for very basic text generation. **Think about every word in a corpus as a state.** We can make a simple assumption that the next word is only dependent on the previous word - which is the basic assumption of a Markov chain. In this exercise, you'll create a text generator which uses only this concept."
      ]
    },
    {
      "cell_type": "markdown",
      "id": "820d3fd0-8987-4c33-80ee-41e5586daee1",
      "metadata": {
        "id": "820d3fd0-8987-4c33-80ee-41e5586daee1"
      },
      "source": [
        "## Read in some text to imitate"
      ]
    },
    {
      "cell_type": "markdown",
      "id": "5e1d3d75-fd70-407e-a517-ed9457280d37",
      "metadata": {
        "id": "5e1d3d75-fd70-407e-a517-ed9457280d37"
      },
      "source": [
        "We are going to generate some text in the style of inspirational quotes, so let's first read in the data."
      ]
    },
    {
      "cell_type": "code",
      "execution_count": 5,
      "id": "0ee57df9-dd76-413f-be7b-c102b3ec19bf",
      "metadata": {
        "id": "0ee57df9-dd76-413f-be7b-c102b3ec19bf",
        "outputId": "c93e3469-e6f4-4153-a3c8-a7b26edd6ea3",
        "tags": []
      },
      "outputs": [
        {
          "name": "stdout",
          "output_type": "stream",
          "text": [
            "“Healing comes from taking responsibility: to realize that it is you - and no one else - that creates your thoughts, your feelings, and your actions.” —Peter Shepherd\n",
            "\n",
            "“Life is a journey and if you fall in love with the journey you will be in love forever.” —Peter Hagerty\n",
            "\n",
            "“When you return to your old hometown, you find it wasn’t the town you missed, but your childhood.” —Earl Wilson\n",
            "\n",
            "“As we grow old, the beauty steals inward.” —Ralph Waldo Emerson\n",
            "\n",
            "“Life begins as a quest of the child for the man, and ends as a journey by the man to rediscover the child.” —Sam Ewing\n",
            "\n",
            "Happiness\n",
            "“Ultimately your greatest teacher is to live with an open heart.” —Emmanuel (Pat Rodegast)\n",
            "\n",
            "“Doing what you like is freedom. Liking what you do is happiness.” —Frank Tyger\n",
            "\n",
            "“We forge the chains we wear in life.” —Charles Dickens\n",
            "\n",
            "happiness quote\n",
            "“If you look to others for fulfillment, you will never be fulfilled. If your happiness depends on money, you will never be happy with yourself. Be content with what you \n"
          ]
        }
      ],
      "source": [
        "url = 'https://raw.githubusercontent.com/leontoddjohnson/datasets/main/text/inspiration_quotes.txt'\n",
        "import requests\n",
        "content = requests.get(url)\n",
        "quotes_raw = content.text\n",
        "\n",
        "print(quotes_raw[:1000])"
      ]
    },
    {
      "cell_type": "markdown",
      "id": "c1e02773-dd1a-407c-ba2a-b01990f03f03",
      "metadata": {
        "id": "c1e02773-dd1a-407c-ba2a-b01990f03f03"
      },
      "source": [
        "## Clean up the text data\n",
        "\n",
        "There are many ways to clean up data before building a text generator. In this case, we'll try to at least just extract the quotes themselves.\n",
        "\n",
        "*After you complete the exercises, feel free to adjust this section of the process ...*"
      ]
    },
    {
      "cell_type": "code",
      "execution_count": 6,
      "id": "30a249e9-0207-41e9-ac53-f5b538604fec",
      "metadata": {
        "id": "30a249e9-0207-41e9-ac53-f5b538604fec",
        "outputId": "66c5953b-e28a-4d30-958e-a7a87a4a2801",
        "tags": []
      },
      "outputs": [
        {
          "data": {
            "text/plain": [
              "['',\n",
              " 'Healing comes from taking responsibility: to realize that it is you - and no one else - that creates your thoughts, your feelings, and your actions.',\n",
              " ' —Peter Shepherd  ']"
            ]
          },
          "execution_count": 6,
          "metadata": {},
          "output_type": "execute_result"
        }
      ],
      "source": [
        "import re\n",
        "quotes = quotes_raw.replace('\\n', ' ')\n",
        "quotes = re.split(\"[“”]\", quotes)   # split on the unique “ characters\n",
        "quotes[:3]"
      ]
    },
    {
      "cell_type": "code",
      "execution_count": 8,
      "id": "d741a9bf-1e8f-4138-aa0c-a250db1d2e53",
      "metadata": {
        "id": "d741a9bf-1e8f-4138-aa0c-a250db1d2e53",
        "outputId": "a11cd189-dbea-46d4-c255-636dad91ccc0",
        "tags": []
      },
      "outputs": [
        {
          "data": {
            "text/plain": [
              "['Life is a journey and if you fall in love with the journey you will be in love forever.',\n",
              " 'As we grow old, the beauty steals inward.',\n",
              " 'Ultimately your greatest teacher is to live with an open heart.']"
            ]
          },
          "execution_count": 8,
          "metadata": {},
          "output_type": "execute_result"
        }
      ],
      "source": [
        "# skip the first one, and capture every other element\n",
        "quotes = quotes[1::2]\n",
        "quotes[:3]"
      ]
    },
    {
      "cell_type": "code",
      "execution_count": 9,
      "id": "fac9adc7-5b5c-449c-8a85-a011f14bce8a",
      "metadata": {
        "id": "fac9adc7-5b5c-449c-8a85-a011f14bce8a",
        "outputId": "a8b32ad0-56b8-4140-8790-23c181a949bc",
        "tags": []
      },
      "outputs": [
        {
          "data": {
            "text/plain": [
              "'Life is a journey and if you fall in love with the journey you will be in love forever. As we grow old, the beauty steals inward. Ultimately your greatest teacher is to live with an open heart. We for'"
            ]
          },
          "execution_count": 9,
          "metadata": {},
          "output_type": "execute_result"
        }
      ],
      "source": [
        "# create one long corpus of text\n",
        "corpus = ' '.join(quotes)\n",
        "\n",
        "# remove long whitespaces (see regex101.com)\n",
        "corpus = re.sub(r\"\\s+\", \" \", corpus)\n",
        "\n",
        "# remove leading/trailing whitespaces\n",
        "corpus = corpus.strip()\n",
        "\n",
        "corpus[:200]"
      ]
    },
    {
      "cell_type": "markdown",
      "id": "NPc3-Aw7_x_m",
      "metadata": {
        "id": "NPc3-Aw7_x_m"
      },
      "source": [
        "In general, this version of `corpus` should work just fine!"
      ]
    },
    {
      "cell_type": "markdown",
      "id": "ce7213c9-fcea-47f2-a7d3-5dfeb14a0a42",
      "metadata": {
        "id": "ce7213c9-fcea-47f2-a7d3-5dfeb14a0a42"
      },
      "source": [
        "# Exercises\n",
        "\n",
        "In these exercises, you'll build a `MarkovText` object that takes in a `corpus` of text, and has the capability to generate text using the Markov Property."
      ]
    },
    {
      "cell_type": "code",
      "execution_count": 10,
      "id": "08914de7",
      "metadata": {},
      "outputs": [],
      "source": [
        "from apputil import *"
      ]
    },
    {
      "cell_type": "markdown",
      "id": "b7be36ce-4a51-410f-a0f9-138dfbaf1f2a",
      "metadata": {
        "id": "b7be36ce-4a51-410f-a0f9-138dfbaf1f2a"
      },
      "source": [
        "## Exercise 1: Build a Transition Dictionary"
      ]
    },
    {
      "cell_type": "markdown",
      "id": "a386cbbf-abdc-4f6e-bfb3-30988459f37e",
      "metadata": {
        "id": "a386cbbf-abdc-4f6e-bfb3-30988459f37e"
      },
      "source": [
        "Update the `get_term_dict` method to build a term dictionary of Markov states with the following traits:\n",
        "\n",
        "* The keys should be (unique) tokens in the corpus\n",
        "* For each key, the value should be a `list` of all the tokens that follow that key\n",
        "    - E.g., if my total corpus is \"Astrid is very kind, is she not?\", then my dictionary should include `{... \"is\": [\"very\", \"she\"] ...}`.\n",
        "    - Decide whether or not to include duplicates (i.e., *every* iteration) in these lists. Then, explain why or why not.\n",
        "\n",
        "*Hint: You'll likely want to use [`defaultdict(list)`](https://realpython.com/python-defaultdict/#understanding-the-python-defaultdict-type) here.*"
      ]
    },
    {
      "cell_type": "markdown",
      "id": "1eb4a8cb-4af2-40da-b873-8637a5e0990e",
      "metadata": {
        "id": "1eb4a8cb-4af2-40da-b873-8637a5e0990e"
      },
      "source": [
        "Apply the function to the quotes above. Your final output should look something like this:\n",
        "    \n",
        "```python\n",
        "{\n",
        "    'Healing': ['comes'],\n",
        "    'comes': ['from', 'the', 'the', ...],\n",
        "    'from': ['taking', 'aesthetic', 'a'],\n",
        "    ...\n",
        "}\n",
        "```"
      ]
    },
    {
      "cell_type": "code",
      "execution_count": 11,
      "id": "7f92e085",
      "metadata": {},
      "outputs": [],
      "source": [
        " def __init__(self, corpus):\n",
        "        self.corpus = corpus\n",
        "        self.term_dict = None"
      ]
    },
    {
      "cell_type": "code",
      "execution_count": 13,
      "id": "3d0fd2fb",
      "metadata": {},
      "outputs": [],
      "source": [
        "from collections import defaultdict\n",
        "\n",
        "def get_term_dict(tokens):\n",
        "    term_dict = defaultdict(list)\n",
        "    \n",
        "    for i in range(len(tokens) - 1):\n",
        "        current_token = tokens[i]\n",
        "        next_token = tokens[i + 1]\n",
        "        term_dict[current_token].append(next_token)\n",
        "    print(disct(term_dict))\n",
        "    return dict(term_dict)"
      ]
    },
    {
      "cell_type": "code",
      "execution_count": 27,
      "id": "89b47905",
      "metadata": {},
      "outputs": [],
      "source": [
        "def get_term_dict(self):\n",
        "\n",
        "        # your code here ...\n",
        "        ''' Build a term dictionary of Markov States where each key is token from the corpus , \n",
        "        and each value is a list of tokens directly follows the key in the corpus.\n",
        "         The resulting term dictionary is stored in the self.term_dict.\n",
        "         Returns: None.'''\n",
        "        \n",
        "        term_dict = defaultdict(list)\n",
        "\n",
        "        for i in range(len(self.corpus) - 1):\n",
        "            current_token = self.corpus[i]\n",
        "            next_token = self.corpus[i + 1]\n",
        "            term_dict[current_token].append(next_token)\n",
        "\n",
        "        self.term_dict = dict(term_dict)\n",
        "\n",
        "        return None\n",
        "        "
      ]
    },
    {
      "cell_type": "code",
      "execution_count": 28,
      "id": "8353b120",
      "metadata": {},
      "outputs": [
        {
          "name": "stdout",
          "output_type": "stream",
          "text": [
            "{}\n"
          ]
        }
      ],
      "source": [
        "text_gen = MarkovText(corpus)\n",
        "\n",
        "text_gen.get_term_dict()\n",
        "print(text_gen.term_dict) "
      ]
    },
    {
      "cell_type": "code",
      "execution_count": null,
      "id": "9cc7bb0a",
      "metadata": {},
      "outputs": [
        {
          "name": "stdout",
          "output_type": "stream",
          "text": [
            "{}\n"
          ]
        }
      ],
      "source": []
    },
    {
      "cell_type": "markdown",
      "id": "3d82c2ca-357d-4115-9b53-b588c6628a14",
      "metadata": {
        "id": "3d82c2ca-357d-4115-9b53-b588c6628a14"
      },
      "source": [
        "## Exercise 2: Create a text generator\n",
        "\n",
        "Update the `generate()` method to generate sentences using the Markov property.\n",
        "\n",
        "- This should use the `.term_dict`, and it should take in the number of terms you want generated, `term_count`.\n",
        "- Your function should also be able to accept an *optional* user-defined `seed_term` that starts the generator. By default, you can have the function select a random first token.\n",
        "  - If the user-defined seed term is not in the corpus, raise a `ValueError`.\n",
        "- Each \"next word\" should be chosen *at random* given the \"current\" word and the term dictionary.\n",
        "  - Consider [`numpy.random.choice`](https://numpy.org/doc/stable/reference/random/generated/numpy.random.choice.html) for this.\n",
        "\n",
        "*Hint: think about what happens if the last term in the corpus occurs only **once**.*"
      ]
    },
    {
      "cell_type": "markdown",
      "id": "f284221f",
      "metadata": {},
      "source": []
    },
    {
      "cell_type": "code",
      "execution_count": 63,
      "id": "c3980761",
      "metadata": {},
      "outputs": [],
      "source": [
        "def generate(self, seed_term=None, term_count=15):\n",
        "    if self.term_dict is None:\n",
        "        raise ValueError(\"Term dictionary not initialized. Call get_term_dict() first.\")\n",
        "\n",
        "    if seed_term:\n",
        "            if seed_term not in self.term_dict:\n",
        "                raise ValueError(f\"Seed term '{seed_term}' not found in corpus.\")\n",
        "            current_term = seed_term\n",
        "    else:\n",
        "            current_term = np.random.choice(list(self.term_dict.keys()))\n",
        "\n",
        "    output = [current_term]\n",
        "\n",
        "    for _ in range(term_count - 1):\n",
        "            followers = self.term_dict.get(current_term)\n",
        "            if not followers:\n",
        "                break  # No known followers; end early\n",
        "            next_term = np.random.choice(followers)\n",
        "            output.append(next_term)\n",
        "            current_term = next_term\n",
        "\n",
        "    return ' '.join(output)"
      ]
    },
    {
      "cell_type": "code",
      "execution_count": 65,
      "id": "dcfc3ba6",
      "metadata": {},
      "outputs": [
        {
          "name": "stdout",
          "output_type": "stream",
          "text": [
            "{}\n"
          ]
        }
      ],
      "source": [
        "text_gen = MarkovText(corpus)\n",
        "\n",
        "text_gen.get_term_dict()\n",
        "print(text_gen.term_dict) "
      ]
    },
    {
      "cell_type": "code",
      "execution_count": 72,
      "id": "2cd130b1",
      "metadata": {},
      "outputs": [
        {
          "ename": "NameError",
          "evalue": "name 'np' is not defined",
          "output_type": "error",
          "traceback": [
            "\u001b[31m---------------------------------------------------------------------------\u001b[39m",
            "\u001b[31mNameError\u001b[39m                                 Traceback (most recent call last)",
            "\u001b[36mCell\u001b[39m\u001b[36m \u001b[39m\u001b[32mIn[72]\u001b[39m\u001b[32m, line 3\u001b[39m\n\u001b[32m      1\u001b[39m text_gen = MarkovText(corpus)\n\u001b[32m      2\u001b[39m text_gen.get_term_dict()\n\u001b[32m----> \u001b[39m\u001b[32m3\u001b[39m \u001b[43mtext_gen\u001b[49m\u001b[43m.\u001b[49m\u001b[43mgenerate\u001b[49m\u001b[43m(\u001b[49m\u001b[43m)\u001b[49m\n",
            "\u001b[36mFile \u001b[39m\u001b[32m/workspaces/Info-H501-week-8/apputil.py:37\u001b[39m, in \u001b[36mgenerate\u001b[39m\u001b[34m(self, seed_term, term_count)\u001b[39m\n\u001b[32m     30\u001b[39m \u001b[38;5;28;01mdef\u001b[39;00m\u001b[38;5;250m \u001b[39m\u001b[34mgenerate\u001b[39m(\u001b[38;5;28mself\u001b[39m, seed_term=\u001b[38;5;28;01mNone\u001b[39;00m, term_count=\u001b[32m15\u001b[39m):\n\u001b[32m     31\u001b[39m \u001b[38;5;250m    \u001b[39m\u001b[33;03m''' Generate sentences (sequence of terms) based on the Markov chain model.\u001b[39;00m\n\u001b[32m     32\u001b[39m \u001b[33;03m    If seed_term is provided, the generated text starts with that term.\u001b[39;00m\n\u001b[32m     33\u001b[39m \u001b[33;03m    If seed_term is None, a random term from the term dictionary is chosen as the starting term.\u001b[39;00m\n\u001b[32m     34\u001b[39m \u001b[33;03m    The generated text will contain term_count terms.\u001b[39;00m\n\u001b[32m     35\u001b[39m \u001b[33;03m    Parameters:\u001b[39;00m\n\u001b[32m     36\u001b[39m \u001b[33;03m    seed_term (str, optional): The starting token for generation.\u001b[39;00m\n\u001b[32m---> \u001b[39m\u001b[32m37\u001b[39m \u001b[33;03m    term_count (int): Number of tokens to generate.\u001b[39;00m\n\u001b[32m     38\u001b[39m \u001b[33;03m    Returns: A string representing the generated text.'''\u001b[39;00m\n\u001b[32m     39\u001b[39m     \u001b[38;5;66;03m# your code here ...\u001b[39;00m\n\u001b[32m     40\u001b[39m     \u001b[38;5;28;01mif\u001b[39;00m \u001b[38;5;28mself\u001b[39m.term_dict \u001b[38;5;129;01mis\u001b[39;00m \u001b[38;5;28;01mNone\u001b[39;00m:\n",
            "\u001b[31mNameError\u001b[39m: name 'np' is not defined"
          ]
        }
      ],
      "source": [
        "text_gen = MarkovText(corpus)\n",
        "text_gen.get_term_dict()\n",
        "text_gen.generate()\n",
        "\n"
      ]
    },
    {
      "cell_type": "markdown",
      "id": "09c151e8-2ee4-4b16-9590-eb44ef342f58",
      "metadata": {
        "id": "09c151e8-2ee4-4b16-9590-eb44ef342f58"
      },
      "source": [
        "*Note: this exercise illustrates both a Markov Chain (with constant transition probabilities) **and** a [Monte Carlo Simulation](https://en.wikipedia.org/wiki/Monte_Carlo_method) (iterative sampling from a constantly defined probability distribution of words)!*"
      ]
    },
    {
      "cell_type": "markdown",
      "id": "a00abc1b",
      "metadata": {},
      "source": [
        "---\n",
        "\n",
        "# Bonus Exercise\n",
        "\n",
        "*<font color='darkorange'>The following exercise is completely optional</font>, and will not be reviewed unless explicitly requested. That said, these are interesting to work on if you have the time!*"
      ]
    },
    {
      "cell_type": "markdown",
      "id": "182bbcb9",
      "metadata": {},
      "source": [
        "Adjust your text generator such that we can increase the \"state window size\" from one word to `k` words. That is, the term dictionary in this version with `k = 2` would look something like this (*note the tuple keys*):\n",
        "\n",
        "```python\n",
        "{\n",
        "    (\"Healing\", \"comes\"): [\"from\", ...],\n",
        "    ...,\n",
        "    (\"it\", \"is\"): [\"you\", \"very\"],\n",
        "    ...\n",
        "}\n",
        "```\n",
        "\n",
        "Generate some text for `k` values of 1, 2, and 3, and compare the differences in text coherence. Try larger corpuses ..."
      ]
    }
  ],
  "metadata": {
    "colab": {
      "provenance": []
    },
    "kernelspec": {
      "display_name": "base",
      "language": "python",
      "name": "python3"
    },
    "language_info": {
      "codemirror_mode": {
        "name": "ipython",
        "version": 3
      },
      "file_extension": ".py",
      "mimetype": "text/x-python",
      "name": "python",
      "nbconvert_exporter": "python",
      "pygments_lexer": "ipython3",
      "version": "3.11.13"
    }
  },
  "nbformat": 4,
  "nbformat_minor": 5
}
